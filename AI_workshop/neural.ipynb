{
  "cells": [
    {
      "cell_type": "code",
      "execution_count": null,
      "id": "e1547d23",
      "metadata": {
        "id": "e1547d23"
      },
      "outputs": [],
      "source": [
        "import numpy as np\n",
        "import pandas as pd\n",
        "import tensorflow as tf\n",
        "\n",
        "from sklearn import metrics\n",
        "from sklearn.model_selection import train_test_split\n",
        "from sklearn.metrics import confusion_matrix\n",
        "from sklearn.metrics import classification_report\n",
        "from sklearn import datasets\n",
        "\n",
        "from tensorflow.keras.models import Sequential\n",
        "from tensorflow.keras.layers import Dense\n",
        "from tensorflow.keras.utils import to_categorical\n",
        "#np_utils"
      ]
    },
    {
      "cell_type": "code",
      "execution_count": null,
      "id": "b00f908c",
      "metadata": {
        "id": "b00f908c"
      },
      "outputs": [],
      "source": [
        "FEATURE_NAMES = ['Sepal Length', 'Sepal Width', 'Petal Length', 'Petal Width']"
      ]
    },
    {
      "cell_type": "code",
      "execution_count": null,
      "id": "eb92487e",
      "metadata": {
        "id": "eb92487e"
      },
      "outputs": [],
      "source": [
        "iris = datasets.load_iris()\n",
        "X = pd.DataFrame(iris.data, columns = FEATURE_NAMES)\n",
        "y = iris.target"
      ]
    },
    {
      "cell_type": "code",
      "execution_count": null,
      "id": "9cb45102",
      "metadata": {
        "colab": {
          "base_uri": "https://localhost:8080/"
        },
        "id": "9cb45102",
        "outputId": "9f3a7a83-0590-43f2-b966-b5e5c54b003a"
      },
      "outputs": [
        {
          "output_type": "execute_result",
          "data": {
            "text/plain": [
              "array([0, 0, 0, 0, 0, 0, 0, 0, 0, 0, 0, 0, 0, 0, 0, 0, 0, 0, 0, 0, 0, 0,\n",
              "       0, 0, 0, 0, 0, 0, 0, 0, 0, 0, 0, 0, 0, 0, 0, 0, 0, 0, 0, 0, 0, 0,\n",
              "       0, 0, 0, 0, 0, 0, 1, 1, 1, 1, 1, 1, 1, 1, 1, 1, 1, 1, 1, 1, 1, 1,\n",
              "       1, 1, 1, 1, 1, 1, 1, 1, 1, 1, 1, 1, 1, 1, 1, 1, 1, 1, 1, 1, 1, 1,\n",
              "       1, 1, 1, 1, 1, 1, 1, 1, 1, 1, 1, 1, 2, 2, 2, 2, 2, 2, 2, 2, 2, 2,\n",
              "       2, 2, 2, 2, 2, 2, 2, 2, 2, 2, 2, 2, 2, 2, 2, 2, 2, 2, 2, 2, 2, 2,\n",
              "       2, 2, 2, 2, 2, 2, 2, 2, 2, 2, 2, 2, 2, 2, 2, 2, 2, 2])"
            ]
          },
          "metadata": {},
          "execution_count": 4
        }
      ],
      "source": [
        "y"
      ]
    },
    {
      "cell_type": "code",
      "execution_count": null,
      "id": "2af92c94",
      "metadata": {
        "id": "2af92c94"
      },
      "outputs": [],
      "source": [
        "X_train, X_test, y_train, y_test = train_test_split(X,y,random_state = 3, test_size = 0.25)"
      ]
    },
    {
      "cell_type": "code",
      "execution_count": null,
      "id": "091c5516",
      "metadata": {
        "colab": {
          "base_uri": "https://localhost:8080/"
        },
        "id": "091c5516",
        "outputId": "c24f4b68-4e30-4756-88ba-499ed9d26034"
      },
      "outputs": [
        {
          "output_type": "execute_result",
          "data": {
            "text/plain": [
              "(112, 4)"
            ]
          },
          "metadata": {},
          "execution_count": 6
        }
      ],
      "source": [
        "X_train.shape"
      ]
    },
    {
      "cell_type": "code",
      "execution_count": null,
      "id": "1bb8b064",
      "metadata": {
        "colab": {
          "base_uri": "https://localhost:8080/"
        },
        "id": "1bb8b064",
        "outputId": "0499532d-b995-4c31-bca3-fce6284b1a21"
      },
      "outputs": [
        {
          "output_type": "execute_result",
          "data": {
            "text/plain": [
              "(112,)"
            ]
          },
          "metadata": {},
          "execution_count": 8
        }
      ],
      "source": [
        "y_train.shape"
      ]
    },
    {
      "cell_type": "code",
      "execution_count": null,
      "id": "d83386f6",
      "metadata": {
        "colab": {
          "base_uri": "https://localhost:8080/"
        },
        "id": "d83386f6",
        "outputId": "e558e01f-ded7-4809-c9f1-7395df0c213f"
      },
      "outputs": [
        {
          "output_type": "execute_result",
          "data": {
            "text/plain": [
              "array([2, 1, 2, 1, 0, 0, 2, 1, 0, 1, 2, 1, 0, 0, 2, 1, 1, 0, 2, 0, 2, 1,\n",
              "       0, 0, 2, 1, 0, 0, 1, 2, 2, 0, 2, 1, 0, 0, 2, 2, 2, 1, 1, 1, 0, 0,\n",
              "       2, 2, 1, 2, 1, 2, 0, 2, 0, 1, 1, 2, 2, 0, 1, 0, 1, 1, 1, 0, 2, 0,\n",
              "       2, 1, 2, 1, 2, 1, 0, 2, 1, 2, 1, 0, 1, 2, 0, 1, 0, 0, 0, 1, 2, 0,\n",
              "       0, 2, 0, 1, 2, 1, 2, 2, 1, 1, 2, 1, 0, 1, 1, 0, 1, 2, 2, 2, 0, 0,\n",
              "       2, 2])"
            ]
          },
          "metadata": {},
          "execution_count": 9
        }
      ],
      "source": [
        "y_train"
      ]
    },
    {
      "cell_type": "code",
      "execution_count": null,
      "id": "99145c43",
      "metadata": {
        "id": "99145c43"
      },
      "outputs": [],
      "source": [
        "# one hot encode outputs\n",
        "y_train = to_categorical(y_train)\n",
        "y_test = to_categorical(y_test)\n",
        "num_classes = 3"
      ]
    },
    {
      "cell_type": "code",
      "execution_count": null,
      "id": "9beda179",
      "metadata": {
        "collapsed": true,
        "colab": {
          "base_uri": "https://localhost:8080/"
        },
        "id": "9beda179",
        "outputId": "c2cf7d56-efbe-4f65-8115-9d2217f4fb83"
      },
      "outputs": [
        {
          "output_type": "execute_result",
          "data": {
            "text/plain": [
              "array([[0., 0., 1.],\n",
              "       [0., 1., 0.],\n",
              "       [0., 0., 1.],\n",
              "       [0., 1., 0.],\n",
              "       [1., 0., 0.],\n",
              "       [1., 0., 0.],\n",
              "       [0., 0., 1.],\n",
              "       [0., 1., 0.],\n",
              "       [1., 0., 0.],\n",
              "       [0., 1., 0.],\n",
              "       [0., 0., 1.],\n",
              "       [0., 1., 0.],\n",
              "       [1., 0., 0.],\n",
              "       [1., 0., 0.],\n",
              "       [0., 0., 1.],\n",
              "       [0., 1., 0.],\n",
              "       [0., 1., 0.],\n",
              "       [1., 0., 0.],\n",
              "       [0., 0., 1.],\n",
              "       [1., 0., 0.],\n",
              "       [0., 0., 1.],\n",
              "       [0., 1., 0.],\n",
              "       [1., 0., 0.],\n",
              "       [1., 0., 0.],\n",
              "       [0., 0., 1.],\n",
              "       [0., 1., 0.],\n",
              "       [1., 0., 0.],\n",
              "       [1., 0., 0.],\n",
              "       [0., 1., 0.],\n",
              "       [0., 0., 1.],\n",
              "       [0., 0., 1.],\n",
              "       [1., 0., 0.],\n",
              "       [0., 0., 1.],\n",
              "       [0., 1., 0.],\n",
              "       [1., 0., 0.],\n",
              "       [1., 0., 0.],\n",
              "       [0., 0., 1.],\n",
              "       [0., 0., 1.],\n",
              "       [0., 0., 1.],\n",
              "       [0., 1., 0.],\n",
              "       [0., 1., 0.],\n",
              "       [0., 1., 0.],\n",
              "       [1., 0., 0.],\n",
              "       [1., 0., 0.],\n",
              "       [0., 0., 1.],\n",
              "       [0., 0., 1.],\n",
              "       [0., 1., 0.],\n",
              "       [0., 0., 1.],\n",
              "       [0., 1., 0.],\n",
              "       [0., 0., 1.],\n",
              "       [1., 0., 0.],\n",
              "       [0., 0., 1.],\n",
              "       [1., 0., 0.],\n",
              "       [0., 1., 0.],\n",
              "       [0., 1., 0.],\n",
              "       [0., 0., 1.],\n",
              "       [0., 0., 1.],\n",
              "       [1., 0., 0.],\n",
              "       [0., 1., 0.],\n",
              "       [1., 0., 0.],\n",
              "       [0., 1., 0.],\n",
              "       [0., 1., 0.],\n",
              "       [0., 1., 0.],\n",
              "       [1., 0., 0.],\n",
              "       [0., 0., 1.],\n",
              "       [1., 0., 0.],\n",
              "       [0., 0., 1.],\n",
              "       [0., 1., 0.],\n",
              "       [0., 0., 1.],\n",
              "       [0., 1., 0.],\n",
              "       [0., 0., 1.],\n",
              "       [0., 1., 0.],\n",
              "       [1., 0., 0.],\n",
              "       [0., 0., 1.],\n",
              "       [0., 1., 0.],\n",
              "       [0., 0., 1.],\n",
              "       [0., 1., 0.],\n",
              "       [1., 0., 0.],\n",
              "       [0., 1., 0.],\n",
              "       [0., 0., 1.],\n",
              "       [1., 0., 0.],\n",
              "       [0., 1., 0.],\n",
              "       [1., 0., 0.],\n",
              "       [1., 0., 0.],\n",
              "       [1., 0., 0.],\n",
              "       [0., 1., 0.],\n",
              "       [0., 0., 1.],\n",
              "       [1., 0., 0.],\n",
              "       [1., 0., 0.],\n",
              "       [0., 0., 1.],\n",
              "       [1., 0., 0.],\n",
              "       [0., 1., 0.],\n",
              "       [0., 0., 1.],\n",
              "       [0., 1., 0.],\n",
              "       [0., 0., 1.],\n",
              "       [0., 0., 1.],\n",
              "       [0., 1., 0.],\n",
              "       [0., 1., 0.],\n",
              "       [0., 0., 1.],\n",
              "       [0., 1., 0.],\n",
              "       [1., 0., 0.],\n",
              "       [0., 1., 0.],\n",
              "       [0., 1., 0.],\n",
              "       [1., 0., 0.],\n",
              "       [0., 1., 0.],\n",
              "       [0., 0., 1.],\n",
              "       [0., 0., 1.],\n",
              "       [0., 0., 1.],\n",
              "       [1., 0., 0.],\n",
              "       [1., 0., 0.],\n",
              "       [0., 0., 1.],\n",
              "       [0., 0., 1.]], dtype=float32)"
            ]
          },
          "metadata": {},
          "execution_count": 13
        }
      ],
      "source": [
        "y_train"
      ]
    },
    {
      "cell_type": "code",
      "execution_count": null,
      "id": "df318102",
      "metadata": {
        "collapsed": true,
        "colab": {
          "base_uri": "https://localhost:8080/"
        },
        "id": "df318102",
        "outputId": "af0d5343-0c35-48b5-c7b1-3cdc534fe8c5"
      },
      "outputs": [
        {
          "output_type": "execute_result",
          "data": {
            "text/plain": [
              "array([[1., 0., 0.],\n",
              "       [1., 0., 0.],\n",
              "       [1., 0., 0.],\n",
              "       [1., 0., 0.],\n",
              "       [1., 0., 0.],\n",
              "       [0., 0., 1.],\n",
              "       [0., 1., 0.],\n",
              "       [1., 0., 0.],\n",
              "       [0., 0., 1.],\n",
              "       [0., 1., 0.],\n",
              "       [0., 1., 0.],\n",
              "       [1., 0., 0.],\n",
              "       [0., 1., 0.],\n",
              "       [0., 1., 0.],\n",
              "       [0., 0., 1.],\n",
              "       [1., 0., 0.],\n",
              "       [0., 1., 0.],\n",
              "       [0., 0., 1.],\n",
              "       [0., 0., 1.],\n",
              "       [1., 0., 0.],\n",
              "       [0., 0., 1.],\n",
              "       [0., 0., 1.],\n",
              "       [0., 0., 1.],\n",
              "       [0., 1., 0.],\n",
              "       [1., 0., 0.],\n",
              "       [0., 0., 1.],\n",
              "       [0., 0., 1.],\n",
              "       [0., 1., 0.],\n",
              "       [0., 1., 0.],\n",
              "       [0., 1., 0.],\n",
              "       [1., 0., 0.],\n",
              "       [1., 0., 0.],\n",
              "       [0., 0., 1.],\n",
              "       [0., 1., 0.],\n",
              "       [1., 0., 0.],\n",
              "       [1., 0., 0.],\n",
              "       [0., 1., 0.],\n",
              "       [1., 0., 0.]], dtype=float32)"
            ]
          },
          "metadata": {},
          "execution_count": 16
        }
      ],
      "source": [
        "y_test"
      ]
    },
    {
      "cell_type": "code",
      "execution_count": null,
      "id": "4d4bdb55",
      "metadata": {
        "id": "4d4bdb55"
      },
      "outputs": [],
      "source": [
        "def build_model():\n",
        "    # create model\n",
        "    model = Sequential()\n",
        "    model.add(Dense(6, input_dim=4, activation='relu'))\n",
        "    model.add(Dense(6, activation='relu'))\n",
        "    model.add(Dense(num_classes, activation='softmax'))\n",
        "    # Compile model\n",
        "    model.compile(loss='categorical_crossentropy', optimizer='adam', metrics=['accuracy'])\n",
        "    return model"
      ]
    },
    {
      "cell_type": "code",
      "execution_count": null,
      "id": "096e3f80",
      "metadata": {
        "id": "096e3f80"
      },
      "outputs": [],
      "source": [
        "model = build_model()"
      ]
    },
    {
      "cell_type": "code",
      "execution_count": null,
      "id": "82cffb29",
      "metadata": {
        "id": "82cffb29",
        "outputId": "7a533b15-ecc4-4e24-d7fc-ec8d6b767ddd"
      },
      "outputs": [
        {
          "name": "stdout",
          "output_type": "stream",
          "text": [
            "Model: \"sequential\"\n",
            "_________________________________________________________________\n",
            "Layer (type)                 Output Shape              Param #   \n",
            "=================================================================\n",
            "dense (Dense)                (None, 6)                 30        \n",
            "_________________________________________________________________\n",
            "dense_1 (Dense)              (None, 6)                 42        \n",
            "_________________________________________________________________\n",
            "dense_2 (Dense)              (None, 3)                 21        \n",
            "=================================================================\n",
            "Total params: 93\n",
            "Trainable params: 93\n",
            "Non-trainable params: 0\n",
            "_________________________________________________________________\n"
          ]
        }
      ],
      "source": [
        "model.summary()"
      ]
    },
    {
      "cell_type": "code",
      "execution_count": null,
      "id": "f158c0ab",
      "metadata": {
        "id": "f158c0ab",
        "outputId": "a289ba45-f9cb-43b9-b44b-aadd6162c3c1"
      },
      "outputs": [
        {
          "name": "stdout",
          "output_type": "stream",
          "text": [
            "Epoch 1/300\n",
            "4/4 - 1s - loss: 0.9347 - accuracy: 0.3482 - val_loss: 0.9481 - val_accuracy: 0.2895\n",
            "Epoch 2/300\n",
            "4/4 - 0s - loss: 0.8842 - accuracy: 0.3482 - val_loss: 0.8927 - val_accuracy: 0.2895\n",
            "Epoch 3/300\n",
            "4/4 - 0s - loss: 0.8391 - accuracy: 0.3661 - val_loss: 0.8428 - val_accuracy: 0.3421\n",
            "Epoch 4/300\n",
            "4/4 - 0s - loss: 0.7996 - accuracy: 0.4196 - val_loss: 0.7982 - val_accuracy: 0.4211\n",
            "Epoch 5/300\n",
            "4/4 - 0s - loss: 0.7675 - accuracy: 0.5179 - val_loss: 0.7587 - val_accuracy: 0.5526\n",
            "Epoch 6/300\n",
            "4/4 - 0s - loss: 0.7395 - accuracy: 0.6250 - val_loss: 0.7250 - val_accuracy: 0.6316\n",
            "Epoch 7/300\n",
            "4/4 - 0s - loss: 0.7144 - accuracy: 0.6607 - val_loss: 0.6973 - val_accuracy: 0.6842\n",
            "Epoch 8/300\n",
            "4/4 - 0s - loss: 0.6931 - accuracy: 0.6607 - val_loss: 0.6741 - val_accuracy: 0.6842\n",
            "Epoch 9/300\n",
            "4/4 - 0s - loss: 0.6755 - accuracy: 0.6607 - val_loss: 0.6541 - val_accuracy: 0.6842\n",
            "Epoch 10/300\n",
            "4/4 - 0s - loss: 0.6612 - accuracy: 0.6607 - val_loss: 0.6365 - val_accuracy: 0.6842\n",
            "Epoch 11/300\n",
            "4/4 - 0s - loss: 0.6484 - accuracy: 0.6607 - val_loss: 0.6215 - val_accuracy: 0.6842\n",
            "Epoch 12/300\n",
            "4/4 - 0s - loss: 0.6371 - accuracy: 0.6607 - val_loss: 0.6087 - val_accuracy: 0.6842\n",
            "Epoch 13/300\n",
            "4/4 - 0s - loss: 0.6271 - accuracy: 0.6607 - val_loss: 0.5975 - val_accuracy: 0.6842\n",
            "Epoch 14/300\n",
            "4/4 - 0s - loss: 0.6181 - accuracy: 0.6607 - val_loss: 0.5880 - val_accuracy: 0.7105\n",
            "Epoch 15/300\n",
            "4/4 - 0s - loss: 0.6108 - accuracy: 0.6786 - val_loss: 0.5798 - val_accuracy: 0.7632\n",
            "Epoch 16/300\n",
            "4/4 - 0s - loss: 0.6033 - accuracy: 0.7500 - val_loss: 0.5721 - val_accuracy: 0.8421\n",
            "Epoch 17/300\n",
            "4/4 - 0s - loss: 0.5972 - accuracy: 0.8036 - val_loss: 0.5647 - val_accuracy: 0.8421\n",
            "Epoch 18/300\n",
            "4/4 - 0s - loss: 0.5914 - accuracy: 0.8125 - val_loss: 0.5573 - val_accuracy: 0.8421\n",
            "Epoch 19/300\n",
            "4/4 - 0s - loss: 0.5859 - accuracy: 0.8214 - val_loss: 0.5504 - val_accuracy: 0.8421\n",
            "Epoch 20/300\n",
            "4/4 - 0s - loss: 0.5806 - accuracy: 0.8661 - val_loss: 0.5437 - val_accuracy: 0.8421\n",
            "Epoch 21/300\n",
            "4/4 - 0s - loss: 0.5756 - accuracy: 0.8661 - val_loss: 0.5377 - val_accuracy: 0.8421\n",
            "Epoch 22/300\n",
            "4/4 - 0s - loss: 0.5710 - accuracy: 0.8661 - val_loss: 0.5320 - val_accuracy: 0.8421\n",
            "Epoch 23/300\n",
            "4/4 - 0s - loss: 0.5666 - accuracy: 0.8661 - val_loss: 0.5268 - val_accuracy: 0.8421\n",
            "Epoch 24/300\n",
            "4/4 - 0s - loss: 0.5619 - accuracy: 0.8750 - val_loss: 0.5225 - val_accuracy: 0.8684\n",
            "Epoch 25/300\n",
            "4/4 - 0s - loss: 0.5577 - accuracy: 0.8661 - val_loss: 0.5182 - val_accuracy: 0.8684\n",
            "Epoch 26/300\n",
            "4/4 - 0s - loss: 0.5532 - accuracy: 0.8482 - val_loss: 0.5144 - val_accuracy: 0.8684\n",
            "Epoch 27/300\n",
            "4/4 - 0s - loss: 0.5490 - accuracy: 0.8482 - val_loss: 0.5103 - val_accuracy: 0.8684\n",
            "Epoch 28/300\n",
            "4/4 - 0s - loss: 0.5451 - accuracy: 0.8304 - val_loss: 0.5063 - val_accuracy: 0.8684\n",
            "Epoch 29/300\n",
            "4/4 - 0s - loss: 0.5410 - accuracy: 0.8214 - val_loss: 0.5022 - val_accuracy: 0.8684\n",
            "Epoch 30/300\n",
            "4/4 - 0s - loss: 0.5371 - accuracy: 0.8304 - val_loss: 0.4985 - val_accuracy: 0.8684\n",
            "Epoch 31/300\n",
            "4/4 - 0s - loss: 0.5333 - accuracy: 0.8214 - val_loss: 0.4949 - val_accuracy: 0.8158\n",
            "Epoch 32/300\n",
            "4/4 - 0s - loss: 0.5297 - accuracy: 0.8125 - val_loss: 0.4912 - val_accuracy: 0.8158\n",
            "Epoch 33/300\n",
            "4/4 - 0s - loss: 0.5259 - accuracy: 0.8125 - val_loss: 0.4872 - val_accuracy: 0.8158\n",
            "Epoch 34/300\n",
            "4/4 - 0s - loss: 0.5225 - accuracy: 0.8125 - val_loss: 0.4837 - val_accuracy: 0.7895\n",
            "Epoch 35/300\n",
            "4/4 - 0s - loss: 0.5186 - accuracy: 0.8125 - val_loss: 0.4799 - val_accuracy: 0.7895\n",
            "Epoch 36/300\n",
            "4/4 - 0s - loss: 0.5151 - accuracy: 0.8125 - val_loss: 0.4757 - val_accuracy: 0.8158\n",
            "Epoch 37/300\n",
            "4/4 - 0s - loss: 0.5119 - accuracy: 0.8214 - val_loss: 0.4715 - val_accuracy: 0.8158\n",
            "Epoch 38/300\n",
            "4/4 - 0s - loss: 0.5087 - accuracy: 0.8214 - val_loss: 0.4680 - val_accuracy: 0.8421\n",
            "Epoch 39/300\n",
            "4/4 - 0s - loss: 0.5049 - accuracy: 0.8304 - val_loss: 0.4644 - val_accuracy: 0.8947\n",
            "Epoch 40/300\n",
            "4/4 - 0s - loss: 0.5017 - accuracy: 0.8571 - val_loss: 0.4611 - val_accuracy: 0.8947\n",
            "Epoch 41/300\n",
            "4/4 - 0s - loss: 0.4985 - accuracy: 0.8750 - val_loss: 0.4583 - val_accuracy: 0.8947\n",
            "Epoch 42/300\n",
            "4/4 - 0s - loss: 0.4953 - accuracy: 0.8839 - val_loss: 0.4549 - val_accuracy: 0.8947\n",
            "Epoch 43/300\n",
            "4/4 - 0s - loss: 0.4921 - accuracy: 0.9107 - val_loss: 0.4516 - val_accuracy: 0.8947\n",
            "Epoch 44/300\n",
            "4/4 - 0s - loss: 0.4892 - accuracy: 0.9107 - val_loss: 0.4488 - val_accuracy: 0.8947\n",
            "Epoch 45/300\n",
            "4/4 - 0s - loss: 0.4857 - accuracy: 0.9018 - val_loss: 0.4458 - val_accuracy: 0.8947\n",
            "Epoch 46/300\n",
            "4/4 - 0s - loss: 0.4826 - accuracy: 0.9018 - val_loss: 0.4431 - val_accuracy: 0.8947\n",
            "Epoch 47/300\n",
            "4/4 - 0s - loss: 0.4795 - accuracy: 0.8929 - val_loss: 0.4405 - val_accuracy: 0.8947\n",
            "Epoch 48/300\n",
            "4/4 - 0s - loss: 0.4765 - accuracy: 0.8839 - val_loss: 0.4381 - val_accuracy: 0.8947\n",
            "Epoch 49/300\n",
            "4/4 - 0s - loss: 0.4741 - accuracy: 0.8482 - val_loss: 0.4358 - val_accuracy: 0.8421\n",
            "Epoch 50/300\n",
            "4/4 - 0s - loss: 0.4709 - accuracy: 0.8393 - val_loss: 0.4328 - val_accuracy: 0.8421\n",
            "Epoch 51/300\n",
            "4/4 - 0s - loss: 0.4679 - accuracy: 0.8482 - val_loss: 0.4292 - val_accuracy: 0.8947\n",
            "Epoch 52/300\n",
            "4/4 - 0s - loss: 0.4648 - accuracy: 0.8482 - val_loss: 0.4261 - val_accuracy: 0.8947\n",
            "Epoch 53/300\n",
            "4/4 - 0s - loss: 0.4618 - accuracy: 0.8571 - val_loss: 0.4234 - val_accuracy: 0.8947\n",
            "Epoch 54/300\n",
            "4/4 - 0s - loss: 0.4592 - accuracy: 0.8571 - val_loss: 0.4211 - val_accuracy: 0.8947\n",
            "Epoch 55/300\n",
            "4/4 - 0s - loss: 0.4562 - accuracy: 0.8571 - val_loss: 0.4183 - val_accuracy: 0.8947\n",
            "Epoch 56/300\n",
            "4/4 - 0s - loss: 0.4541 - accuracy: 0.8839 - val_loss: 0.4151 - val_accuracy: 0.8947\n",
            "Epoch 57/300\n",
            "4/4 - 0s - loss: 0.4505 - accuracy: 0.9018 - val_loss: 0.4127 - val_accuracy: 0.8947\n",
            "Epoch 58/300\n",
            "4/4 - 0s - loss: 0.4477 - accuracy: 0.9018 - val_loss: 0.4107 - val_accuracy: 0.8947\n",
            "Epoch 59/300\n",
            "4/4 - 0s - loss: 0.4451 - accuracy: 0.8750 - val_loss: 0.4085 - val_accuracy: 0.8947\n",
            "Epoch 60/300\n",
            "4/4 - 0s - loss: 0.4425 - accuracy: 0.8571 - val_loss: 0.4059 - val_accuracy: 0.8947\n",
            "Epoch 61/300\n",
            "4/4 - 0s - loss: 0.4401 - accuracy: 0.8750 - val_loss: 0.4031 - val_accuracy: 0.8947\n",
            "Epoch 62/300\n",
            "4/4 - 0s - loss: 0.4383 - accuracy: 0.8661 - val_loss: 0.4015 - val_accuracy: 0.8947\n",
            "Epoch 63/300\n",
            "4/4 - 0s - loss: 0.4348 - accuracy: 0.8571 - val_loss: 0.3981 - val_accuracy: 0.8947\n",
            "Epoch 64/300\n",
            "4/4 - 0s - loss: 0.4318 - accuracy: 0.8929 - val_loss: 0.3949 - val_accuracy: 0.8947\n",
            "Epoch 65/300\n",
            "4/4 - 0s - loss: 0.4295 - accuracy: 0.9107 - val_loss: 0.3914 - val_accuracy: 0.8947\n",
            "Epoch 66/300\n",
            "4/4 - 0s - loss: 0.4269 - accuracy: 0.9375 - val_loss: 0.3885 - val_accuracy: 0.8947\n",
            "Epoch 67/300\n",
            "4/4 - 0s - loss: 0.4242 - accuracy: 0.9375 - val_loss: 0.3862 - val_accuracy: 0.8947\n",
            "Epoch 68/300\n",
            "4/4 - 0s - loss: 0.4217 - accuracy: 0.9375 - val_loss: 0.3846 - val_accuracy: 0.8947\n",
            "Epoch 69/300\n",
            "4/4 - 0s - loss: 0.4192 - accuracy: 0.9286 - val_loss: 0.3827 - val_accuracy: 0.8947\n",
            "Epoch 70/300\n",
            "4/4 - 0s - loss: 0.4163 - accuracy: 0.9286 - val_loss: 0.3800 - val_accuracy: 0.8947\n",
            "Epoch 71/300\n",
            "4/4 - 0s - loss: 0.4137 - accuracy: 0.9375 - val_loss: 0.3775 - val_accuracy: 0.8947\n",
            "Epoch 72/300\n",
            "4/4 - 0s - loss: 0.4115 - accuracy: 0.9375 - val_loss: 0.3750 - val_accuracy: 0.9211\n",
            "Epoch 73/300\n",
            "4/4 - 0s - loss: 0.4086 - accuracy: 0.9375 - val_loss: 0.3728 - val_accuracy: 0.9474\n",
            "Epoch 74/300\n",
            "4/4 - 0s - loss: 0.4060 - accuracy: 0.9375 - val_loss: 0.3703 - val_accuracy: 0.9474\n",
            "Epoch 75/300\n",
            "4/4 - 0s - loss: 0.4034 - accuracy: 0.9554 - val_loss: 0.3678 - val_accuracy: 0.9474\n",
            "Epoch 76/300\n",
            "4/4 - 0s - loss: 0.4010 - accuracy: 0.9554 - val_loss: 0.3654 - val_accuracy: 0.9474\n",
            "Epoch 77/300\n",
            "4/4 - 0s - loss: 0.3983 - accuracy: 0.9554 - val_loss: 0.3632 - val_accuracy: 0.9474\n",
            "Epoch 78/300\n",
            "4/4 - 0s - loss: 0.3958 - accuracy: 0.9554 - val_loss: 0.3608 - val_accuracy: 0.9474\n",
            "Epoch 79/300\n",
            "4/4 - 0s - loss: 0.3932 - accuracy: 0.9554 - val_loss: 0.3587 - val_accuracy: 0.9474\n",
            "Epoch 80/300\n",
            "4/4 - 0s - loss: 0.3912 - accuracy: 0.9554 - val_loss: 0.3570 - val_accuracy: 0.9474\n",
            "Epoch 81/300\n",
            "4/4 - 0s - loss: 0.3883 - accuracy: 0.9554 - val_loss: 0.3545 - val_accuracy: 0.9474\n",
            "Epoch 82/300\n",
            "4/4 - 0s - loss: 0.3861 - accuracy: 0.9554 - val_loss: 0.3511 - val_accuracy: 0.9737\n",
            "Epoch 83/300\n",
            "4/4 - 0s - loss: 0.3839 - accuracy: 0.9464 - val_loss: 0.3483 - val_accuracy: 0.9474\n",
            "Epoch 84/300\n",
            "4/4 - 0s - loss: 0.3813 - accuracy: 0.9643 - val_loss: 0.3460 - val_accuracy: 0.9474\n"
          ]
        },
        {
          "name": "stdout",
          "output_type": "stream",
          "text": [
            "Epoch 85/300\n",
            "4/4 - 0s - loss: 0.3787 - accuracy: 0.9643 - val_loss: 0.3441 - val_accuracy: 0.9474\n",
            "Epoch 86/300\n",
            "4/4 - 0s - loss: 0.3760 - accuracy: 0.9554 - val_loss: 0.3423 - val_accuracy: 0.9737\n",
            "Epoch 87/300\n",
            "4/4 - 0s - loss: 0.3734 - accuracy: 0.9643 - val_loss: 0.3404 - val_accuracy: 0.9737\n",
            "Epoch 88/300\n",
            "4/4 - 0s - loss: 0.3709 - accuracy: 0.9643 - val_loss: 0.3385 - val_accuracy: 0.9474\n",
            "Epoch 89/300\n",
            "4/4 - 0s - loss: 0.3684 - accuracy: 0.9643 - val_loss: 0.3366 - val_accuracy: 0.9474\n",
            "Epoch 90/300\n",
            "4/4 - 0s - loss: 0.3660 - accuracy: 0.9554 - val_loss: 0.3342 - val_accuracy: 0.9474\n",
            "Epoch 91/300\n",
            "4/4 - 0s - loss: 0.3638 - accuracy: 0.9643 - val_loss: 0.3316 - val_accuracy: 0.9474\n",
            "Epoch 92/300\n",
            "4/4 - 0s - loss: 0.3610 - accuracy: 0.9643 - val_loss: 0.3295 - val_accuracy: 0.9474\n",
            "Epoch 93/300\n",
            "4/4 - 0s - loss: 0.3585 - accuracy: 0.9643 - val_loss: 0.3271 - val_accuracy: 0.9737\n",
            "Epoch 94/300\n",
            "4/4 - 0s - loss: 0.3561 - accuracy: 0.9643 - val_loss: 0.3248 - val_accuracy: 0.9737\n",
            "Epoch 95/300\n",
            "4/4 - 0s - loss: 0.3537 - accuracy: 0.9643 - val_loss: 0.3224 - val_accuracy: 0.9737\n",
            "Epoch 96/300\n",
            "4/4 - 0s - loss: 0.3513 - accuracy: 0.9643 - val_loss: 0.3201 - val_accuracy: 0.9737\n",
            "Epoch 97/300\n",
            "4/4 - 0s - loss: 0.3487 - accuracy: 0.9643 - val_loss: 0.3181 - val_accuracy: 0.9737\n",
            "Epoch 98/300\n",
            "4/4 - 0s - loss: 0.3465 - accuracy: 0.9643 - val_loss: 0.3166 - val_accuracy: 0.9474\n",
            "Epoch 99/300\n",
            "4/4 - 0s - loss: 0.3440 - accuracy: 0.9643 - val_loss: 0.3144 - val_accuracy: 0.9474\n",
            "Epoch 100/300\n",
            "4/4 - 0s - loss: 0.3416 - accuracy: 0.9643 - val_loss: 0.3118 - val_accuracy: 0.9737\n",
            "Epoch 101/300\n",
            "4/4 - 0s - loss: 0.3390 - accuracy: 0.9643 - val_loss: 0.3095 - val_accuracy: 0.9737\n",
            "Epoch 102/300\n",
            "4/4 - 0s - loss: 0.3367 - accuracy: 0.9643 - val_loss: 0.3071 - val_accuracy: 0.9737\n",
            "Epoch 103/300\n",
            "4/4 - 0s - loss: 0.3341 - accuracy: 0.9732 - val_loss: 0.3041 - val_accuracy: 0.9474\n",
            "Epoch 104/300\n",
            "4/4 - 0s - loss: 0.3333 - accuracy: 0.9643 - val_loss: 0.3016 - val_accuracy: 0.9474\n",
            "Epoch 105/300\n",
            "4/4 - 0s - loss: 0.3300 - accuracy: 0.9643 - val_loss: 0.2997 - val_accuracy: 0.9474\n",
            "Epoch 106/300\n",
            "4/4 - 0s - loss: 0.3272 - accuracy: 0.9643 - val_loss: 0.2985 - val_accuracy: 0.9737\n",
            "Epoch 107/300\n",
            "4/4 - 0s - loss: 0.3248 - accuracy: 0.9732 - val_loss: 0.2969 - val_accuracy: 0.9737\n",
            "Epoch 108/300\n",
            "4/4 - 0s - loss: 0.3222 - accuracy: 0.9821 - val_loss: 0.2947 - val_accuracy: 0.9737\n",
            "Epoch 109/300\n",
            "4/4 - 0s - loss: 0.3202 - accuracy: 0.9732 - val_loss: 0.2930 - val_accuracy: 0.9737\n",
            "Epoch 110/300\n",
            "4/4 - 0s - loss: 0.3176 - accuracy: 0.9732 - val_loss: 0.2908 - val_accuracy: 0.9737\n",
            "Epoch 111/300\n",
            "4/4 - 0s - loss: 0.3156 - accuracy: 0.9732 - val_loss: 0.2888 - val_accuracy: 0.9737\n",
            "Epoch 112/300\n",
            "4/4 - 0s - loss: 0.3129 - accuracy: 0.9821 - val_loss: 0.2861 - val_accuracy: 0.9737\n",
            "Epoch 113/300\n",
            "4/4 - 0s - loss: 0.3107 - accuracy: 0.9821 - val_loss: 0.2835 - val_accuracy: 0.9737\n",
            "Epoch 114/300\n",
            "4/4 - 0s - loss: 0.3085 - accuracy: 0.9732 - val_loss: 0.2813 - val_accuracy: 0.9737\n",
            "Epoch 115/300\n",
            "4/4 - 0s - loss: 0.3071 - accuracy: 0.9643 - val_loss: 0.2789 - val_accuracy: 0.9474\n",
            "Epoch 116/300\n",
            "4/4 - 0s - loss: 0.3038 - accuracy: 0.9643 - val_loss: 0.2776 - val_accuracy: 0.9737\n",
            "Epoch 117/300\n",
            "4/4 - 0s - loss: 0.3020 - accuracy: 0.9821 - val_loss: 0.2769 - val_accuracy: 0.9737\n",
            "Epoch 118/300\n",
            "4/4 - 0s - loss: 0.2995 - accuracy: 0.9732 - val_loss: 0.2754 - val_accuracy: 0.9737\n",
            "Epoch 119/300\n",
            "4/4 - 0s - loss: 0.2977 - accuracy: 0.9732 - val_loss: 0.2727 - val_accuracy: 0.9737\n",
            "Epoch 120/300\n",
            "4/4 - 0s - loss: 0.2950 - accuracy: 0.9821 - val_loss: 0.2703 - val_accuracy: 0.9737\n",
            "Epoch 121/300\n",
            "4/4 - 0s - loss: 0.2923 - accuracy: 0.9821 - val_loss: 0.2683 - val_accuracy: 0.9737\n",
            "Epoch 122/300\n",
            "4/4 - 0s - loss: 0.2904 - accuracy: 0.9821 - val_loss: 0.2662 - val_accuracy: 0.9737\n",
            "Epoch 123/300\n",
            "4/4 - 0s - loss: 0.2880 - accuracy: 0.9821 - val_loss: 0.2647 - val_accuracy: 0.9737\n",
            "Epoch 124/300\n",
            "4/4 - 0s - loss: 0.2861 - accuracy: 0.9821 - val_loss: 0.2629 - val_accuracy: 0.9737\n",
            "Epoch 125/300\n",
            "4/4 - 0s - loss: 0.2852 - accuracy: 0.9821 - val_loss: 0.2594 - val_accuracy: 0.9737\n",
            "Epoch 126/300\n",
            "4/4 - 0s - loss: 0.2820 - accuracy: 0.9732 - val_loss: 0.2576 - val_accuracy: 0.9737\n",
            "Epoch 127/300\n",
            "4/4 - 0s - loss: 0.2789 - accuracy: 0.9821 - val_loss: 0.2563 - val_accuracy: 0.9737\n",
            "Epoch 128/300\n",
            "4/4 - 0s - loss: 0.2771 - accuracy: 0.9821 - val_loss: 0.2548 - val_accuracy: 0.9737\n",
            "Epoch 129/300\n",
            "4/4 - 0s - loss: 0.2758 - accuracy: 0.9821 - val_loss: 0.2547 - val_accuracy: 0.9737\n",
            "Epoch 130/300\n",
            "4/4 - 0s - loss: 0.2735 - accuracy: 0.9732 - val_loss: 0.2529 - val_accuracy: 0.9737\n",
            "Epoch 131/300\n",
            "4/4 - 0s - loss: 0.2713 - accuracy: 0.9821 - val_loss: 0.2508 - val_accuracy: 0.9737\n",
            "Epoch 132/300\n",
            "4/4 - 0s - loss: 0.2691 - accuracy: 0.9821 - val_loss: 0.2484 - val_accuracy: 0.9737\n",
            "Epoch 133/300\n",
            "4/4 - 0s - loss: 0.2664 - accuracy: 0.9821 - val_loss: 0.2449 - val_accuracy: 0.9737\n",
            "Epoch 134/300\n",
            "4/4 - 0s - loss: 0.2639 - accuracy: 0.9821 - val_loss: 0.2421 - val_accuracy: 0.9474\n",
            "Epoch 135/300\n",
            "4/4 - 0s - loss: 0.2625 - accuracy: 0.9643 - val_loss: 0.2401 - val_accuracy: 0.9474\n",
            "Epoch 136/300\n",
            "4/4 - 0s - loss: 0.2610 - accuracy: 0.9643 - val_loss: 0.2384 - val_accuracy: 0.9474\n",
            "Epoch 137/300\n",
            "4/4 - 0s - loss: 0.2589 - accuracy: 0.9643 - val_loss: 0.2372 - val_accuracy: 0.9737\n",
            "Epoch 138/300\n",
            "4/4 - 0s - loss: 0.2563 - accuracy: 0.9732 - val_loss: 0.2357 - val_accuracy: 0.9737\n",
            "Epoch 139/300\n",
            "4/4 - 0s - loss: 0.2542 - accuracy: 0.9732 - val_loss: 0.2343 - val_accuracy: 0.9737\n",
            "Epoch 140/300\n",
            "4/4 - 0s - loss: 0.2536 - accuracy: 0.9821 - val_loss: 0.2338 - val_accuracy: 0.9737\n",
            "Epoch 141/300\n",
            "4/4 - 0s - loss: 0.2507 - accuracy: 0.9821 - val_loss: 0.2315 - val_accuracy: 0.9737\n",
            "Epoch 142/300\n",
            "4/4 - 0s - loss: 0.2487 - accuracy: 0.9821 - val_loss: 0.2296 - val_accuracy: 0.9737\n",
            "Epoch 143/300\n",
            "4/4 - 0s - loss: 0.2465 - accuracy: 0.9821 - val_loss: 0.2270 - val_accuracy: 0.9737\n",
            "Epoch 144/300\n",
            "4/4 - 0s - loss: 0.2452 - accuracy: 0.9732 - val_loss: 0.2247 - val_accuracy: 0.9737\n",
            "Epoch 145/300\n",
            "4/4 - 0s - loss: 0.2429 - accuracy: 0.9643 - val_loss: 0.2231 - val_accuracy: 0.9737\n",
            "Epoch 146/300\n",
            "4/4 - 0s - loss: 0.2410 - accuracy: 0.9643 - val_loss: 0.2217 - val_accuracy: 0.9737\n",
            "Epoch 147/300\n",
            "4/4 - 0s - loss: 0.2388 - accuracy: 0.9821 - val_loss: 0.2209 - val_accuracy: 0.9737\n",
            "Epoch 148/300\n",
            "4/4 - 0s - loss: 0.2373 - accuracy: 0.9821 - val_loss: 0.2202 - val_accuracy: 0.9737\n",
            "Epoch 149/300\n",
            "4/4 - 0s - loss: 0.2360 - accuracy: 0.9821 - val_loss: 0.2188 - val_accuracy: 0.9737\n",
            "Epoch 150/300\n",
            "4/4 - 0s - loss: 0.2335 - accuracy: 0.9821 - val_loss: 0.2160 - val_accuracy: 0.9737\n",
            "Epoch 151/300\n",
            "4/4 - 0s - loss: 0.2314 - accuracy: 0.9821 - val_loss: 0.2135 - val_accuracy: 0.9737\n",
            "Epoch 152/300\n",
            "4/4 - 0s - loss: 0.2303 - accuracy: 0.9732 - val_loss: 0.2114 - val_accuracy: 0.9474\n",
            "Epoch 153/300\n",
            "4/4 - 0s - loss: 0.2289 - accuracy: 0.9643 - val_loss: 0.2098 - val_accuracy: 0.9474\n",
            "Epoch 154/300\n",
            "4/4 - 0s - loss: 0.2263 - accuracy: 0.9643 - val_loss: 0.2089 - val_accuracy: 0.9737\n",
            "Epoch 155/300\n",
            "4/4 - 0s - loss: 0.2251 - accuracy: 0.9821 - val_loss: 0.2093 - val_accuracy: 0.9737\n",
            "Epoch 156/300\n",
            "4/4 - 0s - loss: 0.2235 - accuracy: 0.9821 - val_loss: 0.2084 - val_accuracy: 0.9737\n",
            "Epoch 157/300\n",
            "4/4 - 0s - loss: 0.2219 - accuracy: 0.9821 - val_loss: 0.2064 - val_accuracy: 0.9737\n",
            "Epoch 158/300\n",
            "4/4 - 0s - loss: 0.2210 - accuracy: 0.9821 - val_loss: 0.2054 - val_accuracy: 0.9737\n",
            "Epoch 159/300\n",
            "4/4 - 0s - loss: 0.2188 - accuracy: 0.9821 - val_loss: 0.2020 - val_accuracy: 0.9737\n",
            "Epoch 160/300\n",
            "4/4 - 0s - loss: 0.2165 - accuracy: 0.9821 - val_loss: 0.2000 - val_accuracy: 0.9737\n",
            "Epoch 161/300\n",
            "4/4 - 0s - loss: 0.2147 - accuracy: 0.9821 - val_loss: 0.1985 - val_accuracy: 0.9737\n",
            "Epoch 162/300\n",
            "4/4 - 0s - loss: 0.2133 - accuracy: 0.9821 - val_loss: 0.1972 - val_accuracy: 0.9737\n",
            "Epoch 163/300\n",
            "4/4 - 0s - loss: 0.2115 - accuracy: 0.9732 - val_loss: 0.1955 - val_accuracy: 0.9737\n",
            "Epoch 164/300\n",
            "4/4 - 0s - loss: 0.2104 - accuracy: 0.9643 - val_loss: 0.1941 - val_accuracy: 0.9737\n",
            "Epoch 165/300\n",
            "4/4 - 0s - loss: 0.2113 - accuracy: 0.9732 - val_loss: 0.1941 - val_accuracy: 0.9737\n",
            "Epoch 166/300\n",
            "4/4 - 0s - loss: 0.2068 - accuracy: 0.9821 - val_loss: 0.1920 - val_accuracy: 0.9737\n",
            "Epoch 167/300\n",
            "4/4 - 0s - loss: 0.2059 - accuracy: 0.9821 - val_loss: 0.1900 - val_accuracy: 0.9737\n"
          ]
        },
        {
          "name": "stdout",
          "output_type": "stream",
          "text": [
            "Epoch 168/300\n",
            "4/4 - 0s - loss: 0.2041 - accuracy: 0.9732 - val_loss: 0.1889 - val_accuracy: 0.9737\n",
            "Epoch 169/300\n",
            "4/4 - 0s - loss: 0.2027 - accuracy: 0.9732 - val_loss: 0.1875 - val_accuracy: 0.9737\n",
            "Epoch 170/300\n",
            "4/4 - 0s - loss: 0.2012 - accuracy: 0.9732 - val_loss: 0.1868 - val_accuracy: 0.9737\n",
            "Epoch 171/300\n",
            "4/4 - 0s - loss: 0.1998 - accuracy: 0.9821 - val_loss: 0.1858 - val_accuracy: 0.9737\n",
            "Epoch 172/300\n",
            "4/4 - 0s - loss: 0.1985 - accuracy: 0.9821 - val_loss: 0.1840 - val_accuracy: 0.9737\n",
            "Epoch 173/300\n",
            "4/4 - 0s - loss: 0.1968 - accuracy: 0.9732 - val_loss: 0.1822 - val_accuracy: 0.9737\n",
            "Epoch 174/300\n",
            "4/4 - 0s - loss: 0.1957 - accuracy: 0.9732 - val_loss: 0.1811 - val_accuracy: 0.9737\n",
            "Epoch 175/300\n",
            "4/4 - 0s - loss: 0.1943 - accuracy: 0.9643 - val_loss: 0.1797 - val_accuracy: 0.9737\n",
            "Epoch 176/300\n",
            "4/4 - 0s - loss: 0.1933 - accuracy: 0.9643 - val_loss: 0.1786 - val_accuracy: 0.9737\n",
            "Epoch 177/300\n",
            "4/4 - 0s - loss: 0.1911 - accuracy: 0.9732 - val_loss: 0.1781 - val_accuracy: 0.9737\n",
            "Epoch 178/300\n",
            "4/4 - 0s - loss: 0.1899 - accuracy: 0.9821 - val_loss: 0.1783 - val_accuracy: 0.9737\n",
            "Epoch 179/300\n",
            "4/4 - 0s - loss: 0.1892 - accuracy: 0.9821 - val_loss: 0.1771 - val_accuracy: 0.9737\n",
            "Epoch 180/300\n",
            "4/4 - 0s - loss: 0.1879 - accuracy: 0.9821 - val_loss: 0.1750 - val_accuracy: 0.9737\n",
            "Epoch 181/300\n",
            "4/4 - 0s - loss: 0.1864 - accuracy: 0.9821 - val_loss: 0.1732 - val_accuracy: 0.9737\n",
            "Epoch 182/300\n",
            "4/4 - 0s - loss: 0.1850 - accuracy: 0.9732 - val_loss: 0.1718 - val_accuracy: 0.9737\n",
            "Epoch 183/300\n",
            "4/4 - 0s - loss: 0.1838 - accuracy: 0.9732 - val_loss: 0.1709 - val_accuracy: 0.9737\n",
            "Epoch 184/300\n",
            "4/4 - 0s - loss: 0.1825 - accuracy: 0.9821 - val_loss: 0.1700 - val_accuracy: 0.9737\n",
            "Epoch 185/300\n",
            "4/4 - 0s - loss: 0.1816 - accuracy: 0.9821 - val_loss: 0.1694 - val_accuracy: 0.9737\n",
            "Epoch 186/300\n",
            "4/4 - 0s - loss: 0.1803 - accuracy: 0.9821 - val_loss: 0.1683 - val_accuracy: 0.9737\n",
            "Epoch 187/300\n",
            "4/4 - 0s - loss: 0.1788 - accuracy: 0.9821 - val_loss: 0.1666 - val_accuracy: 0.9737\n",
            "Epoch 188/300\n",
            "4/4 - 0s - loss: 0.1778 - accuracy: 0.9732 - val_loss: 0.1653 - val_accuracy: 0.9737\n",
            "Epoch 189/300\n",
            "4/4 - 0s - loss: 0.1778 - accuracy: 0.9732 - val_loss: 0.1647 - val_accuracy: 0.9737\n",
            "Epoch 190/300\n",
            "4/4 - 0s - loss: 0.1754 - accuracy: 0.9821 - val_loss: 0.1634 - val_accuracy: 0.9737\n",
            "Epoch 191/300\n",
            "4/4 - 0s - loss: 0.1744 - accuracy: 0.9821 - val_loss: 0.1623 - val_accuracy: 0.9737\n",
            "Epoch 192/300\n",
            "4/4 - 0s - loss: 0.1735 - accuracy: 0.9732 - val_loss: 0.1613 - val_accuracy: 0.9737\n",
            "Epoch 193/300\n",
            "4/4 - 0s - loss: 0.1722 - accuracy: 0.9732 - val_loss: 0.1609 - val_accuracy: 0.9737\n",
            "Epoch 194/300\n",
            "4/4 - 0s - loss: 0.1712 - accuracy: 0.9821 - val_loss: 0.1605 - val_accuracy: 0.9737\n",
            "Epoch 195/300\n",
            "4/4 - 0s - loss: 0.1702 - accuracy: 0.9821 - val_loss: 0.1592 - val_accuracy: 0.9737\n",
            "Epoch 196/300\n",
            "4/4 - 0s - loss: 0.1691 - accuracy: 0.9821 - val_loss: 0.1581 - val_accuracy: 0.9737\n",
            "Epoch 197/300\n",
            "4/4 - 0s - loss: 0.1680 - accuracy: 0.9821 - val_loss: 0.1570 - val_accuracy: 0.9737\n",
            "Epoch 198/300\n",
            "4/4 - 0s - loss: 0.1665 - accuracy: 0.9821 - val_loss: 0.1555 - val_accuracy: 0.9737\n",
            "Epoch 199/300\n",
            "4/4 - 0s - loss: 0.1656 - accuracy: 0.9732 - val_loss: 0.1543 - val_accuracy: 0.9737\n",
            "Epoch 200/300\n",
            "4/4 - 0s - loss: 0.1653 - accuracy: 0.9732 - val_loss: 0.1534 - val_accuracy: 0.9737\n",
            "Epoch 201/300\n",
            "4/4 - 0s - loss: 0.1647 - accuracy: 0.9643 - val_loss: 0.1524 - val_accuracy: 0.9737\n",
            "Epoch 202/300\n",
            "4/4 - 0s - loss: 0.1631 - accuracy: 0.9732 - val_loss: 0.1516 - val_accuracy: 0.9737\n",
            "Epoch 203/300\n",
            "4/4 - 0s - loss: 0.1628 - accuracy: 0.9821 - val_loss: 0.1514 - val_accuracy: 0.9737\n",
            "Epoch 204/300\n",
            "4/4 - 0s - loss: 0.1611 - accuracy: 0.9821 - val_loss: 0.1501 - val_accuracy: 0.9737\n",
            "Epoch 205/300\n",
            "4/4 - 0s - loss: 0.1599 - accuracy: 0.9821 - val_loss: 0.1493 - val_accuracy: 0.9737\n",
            "Epoch 206/300\n",
            "4/4 - 0s - loss: 0.1588 - accuracy: 0.9821 - val_loss: 0.1484 - val_accuracy: 0.9737\n",
            "Epoch 207/300\n",
            "4/4 - 0s - loss: 0.1578 - accuracy: 0.9821 - val_loss: 0.1476 - val_accuracy: 0.9737\n",
            "Epoch 208/300\n",
            "4/4 - 0s - loss: 0.1572 - accuracy: 0.9821 - val_loss: 0.1469 - val_accuracy: 0.9737\n",
            "Epoch 209/300\n",
            "4/4 - 0s - loss: 0.1563 - accuracy: 0.9821 - val_loss: 0.1459 - val_accuracy: 0.9737\n",
            "Epoch 210/300\n",
            "4/4 - 0s - loss: 0.1552 - accuracy: 0.9821 - val_loss: 0.1450 - val_accuracy: 0.9737\n",
            "Epoch 211/300\n",
            "4/4 - 0s - loss: 0.1548 - accuracy: 0.9821 - val_loss: 0.1448 - val_accuracy: 0.9737\n",
            "Epoch 212/300\n",
            "4/4 - 0s - loss: 0.1535 - accuracy: 0.9821 - val_loss: 0.1435 - val_accuracy: 0.9737\n",
            "Epoch 213/300\n",
            "4/4 - 0s - loss: 0.1533 - accuracy: 0.9821 - val_loss: 0.1429 - val_accuracy: 0.9737\n",
            "Epoch 214/300\n",
            "4/4 - 0s - loss: 0.1516 - accuracy: 0.9821 - val_loss: 0.1420 - val_accuracy: 0.9737\n",
            "Epoch 215/300\n",
            "4/4 - 0s - loss: 0.1510 - accuracy: 0.9821 - val_loss: 0.1409 - val_accuracy: 0.9737\n",
            "Epoch 216/300\n",
            "4/4 - 0s - loss: 0.1506 - accuracy: 0.9732 - val_loss: 0.1400 - val_accuracy: 0.9737\n",
            "Epoch 217/300\n",
            "4/4 - 0s - loss: 0.1494 - accuracy: 0.9821 - val_loss: 0.1397 - val_accuracy: 0.9737\n",
            "Epoch 218/300\n",
            "4/4 - 0s - loss: 0.1492 - accuracy: 0.9821 - val_loss: 0.1397 - val_accuracy: 0.9737\n",
            "Epoch 219/300\n",
            "4/4 - 0s - loss: 0.1477 - accuracy: 0.9821 - val_loss: 0.1382 - val_accuracy: 0.9737\n",
            "Epoch 220/300\n",
            "4/4 - 0s - loss: 0.1469 - accuracy: 0.9732 - val_loss: 0.1369 - val_accuracy: 0.9737\n",
            "Epoch 221/300\n",
            "4/4 - 0s - loss: 0.1465 - accuracy: 0.9732 - val_loss: 0.1362 - val_accuracy: 0.9737\n",
            "Epoch 222/300\n",
            "4/4 - 0s - loss: 0.1471 - accuracy: 0.9643 - val_loss: 0.1356 - val_accuracy: 0.9737\n",
            "Epoch 223/300\n",
            "4/4 - 0s - loss: 0.1451 - accuracy: 0.9643 - val_loss: 0.1348 - val_accuracy: 0.9737\n",
            "Epoch 224/300\n",
            "4/4 - 0s - loss: 0.1434 - accuracy: 0.9821 - val_loss: 0.1347 - val_accuracy: 0.9737\n",
            "Epoch 225/300\n",
            "4/4 - 0s - loss: 0.1430 - accuracy: 0.9821 - val_loss: 0.1349 - val_accuracy: 0.9737\n",
            "Epoch 226/300\n",
            "4/4 - 0s - loss: 0.1427 - accuracy: 0.9821 - val_loss: 0.1343 - val_accuracy: 0.9737\n",
            "Epoch 227/300\n",
            "4/4 - 0s - loss: 0.1429 - accuracy: 0.9821 - val_loss: 0.1342 - val_accuracy: 0.9737\n",
            "Epoch 228/300\n",
            "4/4 - 0s - loss: 0.1414 - accuracy: 0.9821 - val_loss: 0.1321 - val_accuracy: 0.9737\n",
            "Epoch 229/300\n",
            "4/4 - 0s - loss: 0.1401 - accuracy: 0.9821 - val_loss: 0.1311 - val_accuracy: 0.9737\n",
            "Epoch 230/300\n",
            "4/4 - 0s - loss: 0.1395 - accuracy: 0.9821 - val_loss: 0.1303 - val_accuracy: 0.9737\n",
            "Epoch 231/300\n",
            "4/4 - 0s - loss: 0.1386 - accuracy: 0.9821 - val_loss: 0.1299 - val_accuracy: 0.9737\n",
            "Epoch 232/300\n",
            "4/4 - 0s - loss: 0.1381 - accuracy: 0.9821 - val_loss: 0.1293 - val_accuracy: 0.9737\n",
            "Epoch 233/300\n",
            "4/4 - 0s - loss: 0.1372 - accuracy: 0.9821 - val_loss: 0.1289 - val_accuracy: 0.9737\n",
            "Epoch 234/300\n",
            "4/4 - 0s - loss: 0.1382 - accuracy: 0.9821 - val_loss: 0.1290 - val_accuracy: 0.9737\n",
            "Epoch 235/300\n",
            "4/4 - 0s - loss: 0.1356 - accuracy: 0.9821 - val_loss: 0.1272 - val_accuracy: 0.9737\n",
            "Epoch 236/300\n",
            "4/4 - 0s - loss: 0.1352 - accuracy: 0.9732 - val_loss: 0.1264 - val_accuracy: 0.9737\n",
            "Epoch 237/300\n",
            "4/4 - 0s - loss: 0.1356 - accuracy: 0.9643 - val_loss: 0.1259 - val_accuracy: 0.9737\n",
            "Epoch 238/300\n",
            "4/4 - 0s - loss: 0.1349 - accuracy: 0.9643 - val_loss: 0.1252 - val_accuracy: 0.9737\n",
            "Epoch 239/300\n",
            "4/4 - 0s - loss: 0.1334 - accuracy: 0.9732 - val_loss: 0.1247 - val_accuracy: 0.9737\n",
            "Epoch 240/300\n",
            "4/4 - 0s - loss: 0.1323 - accuracy: 0.9821 - val_loss: 0.1250 - val_accuracy: 0.9737\n",
            "Epoch 241/300\n",
            "4/4 - 0s - loss: 0.1321 - accuracy: 0.9821 - val_loss: 0.1255 - val_accuracy: 0.9737\n",
            "Epoch 242/300\n",
            "4/4 - 0s - loss: 0.1323 - accuracy: 0.9821 - val_loss: 0.1254 - val_accuracy: 0.9737\n",
            "Epoch 243/300\n",
            "4/4 - 0s - loss: 0.1322 - accuracy: 0.9821 - val_loss: 0.1244 - val_accuracy: 0.9737\n",
            "Epoch 244/300\n",
            "4/4 - 0s - loss: 0.1307 - accuracy: 0.9821 - val_loss: 0.1229 - val_accuracy: 0.9737\n",
            "Epoch 245/300\n",
            "4/4 - 0s - loss: 0.1295 - accuracy: 0.9821 - val_loss: 0.1214 - val_accuracy: 0.9737\n",
            "Epoch 246/300\n",
            "4/4 - 0s - loss: 0.1314 - accuracy: 0.9732 - val_loss: 0.1207 - val_accuracy: 0.9737\n",
            "Epoch 247/300\n",
            "4/4 - 0s - loss: 0.1290 - accuracy: 0.9732 - val_loss: 0.1201 - val_accuracy: 0.9737\n",
            "Epoch 248/300\n",
            "4/4 - 0s - loss: 0.1279 - accuracy: 0.9821 - val_loss: 0.1201 - val_accuracy: 0.9737\n",
            "Epoch 249/300\n",
            "4/4 - 0s - loss: 0.1276 - accuracy: 0.9821 - val_loss: 0.1197 - val_accuracy: 0.9737\n",
            "Epoch 250/300\n",
            "4/4 - 0s - loss: 0.1268 - accuracy: 0.9821 - val_loss: 0.1191 - val_accuracy: 0.9737\n"
          ]
        },
        {
          "name": "stdout",
          "output_type": "stream",
          "text": [
            "Epoch 251/300\n",
            "4/4 - 0s - loss: 0.1263 - accuracy: 0.9821 - val_loss: 0.1184 - val_accuracy: 0.9737\n",
            "Epoch 252/300\n",
            "4/4 - 0s - loss: 0.1258 - accuracy: 0.9821 - val_loss: 0.1178 - val_accuracy: 0.9737\n",
            "Epoch 253/300\n",
            "4/4 - 0s - loss: 0.1251 - accuracy: 0.9821 - val_loss: 0.1174 - val_accuracy: 0.9737\n",
            "Epoch 254/300\n",
            "4/4 - 0s - loss: 0.1246 - accuracy: 0.9821 - val_loss: 0.1169 - val_accuracy: 0.9737\n",
            "Epoch 255/300\n",
            "4/4 - 0s - loss: 0.1240 - accuracy: 0.9821 - val_loss: 0.1168 - val_accuracy: 0.9737\n",
            "Epoch 256/300\n",
            "4/4 - 0s - loss: 0.1250 - accuracy: 0.9821 - val_loss: 0.1170 - val_accuracy: 0.9737\n",
            "Epoch 257/300\n",
            "4/4 - 0s - loss: 0.1234 - accuracy: 0.9821 - val_loss: 0.1154 - val_accuracy: 0.9737\n",
            "Epoch 258/300\n",
            "4/4 - 0s - loss: 0.1227 - accuracy: 0.9821 - val_loss: 0.1146 - val_accuracy: 0.9737\n",
            "Epoch 259/300\n",
            "4/4 - 0s - loss: 0.1227 - accuracy: 0.9732 - val_loss: 0.1141 - val_accuracy: 0.9737\n",
            "Epoch 260/300\n",
            "4/4 - 0s - loss: 0.1219 - accuracy: 0.9732 - val_loss: 0.1137 - val_accuracy: 0.9737\n",
            "Epoch 261/300\n",
            "4/4 - 0s - loss: 0.1216 - accuracy: 0.9821 - val_loss: 0.1137 - val_accuracy: 0.9737\n",
            "Epoch 262/300\n",
            "4/4 - 0s - loss: 0.1209 - accuracy: 0.9821 - val_loss: 0.1135 - val_accuracy: 0.9737\n",
            "Epoch 263/300\n",
            "4/4 - 0s - loss: 0.1206 - accuracy: 0.9821 - val_loss: 0.1128 - val_accuracy: 0.9737\n",
            "Epoch 264/300\n",
            "4/4 - 0s - loss: 0.1196 - accuracy: 0.9821 - val_loss: 0.1123 - val_accuracy: 0.9737\n",
            "Epoch 265/300\n",
            "4/4 - 0s - loss: 0.1198 - accuracy: 0.9821 - val_loss: 0.1115 - val_accuracy: 0.9737\n",
            "Epoch 266/300\n",
            "4/4 - 0s - loss: 0.1189 - accuracy: 0.9821 - val_loss: 0.1115 - val_accuracy: 0.9737\n",
            "Epoch 267/300\n",
            "4/4 - 0s - loss: 0.1184 - accuracy: 0.9821 - val_loss: 0.1111 - val_accuracy: 0.9737\n",
            "Epoch 268/300\n",
            "4/4 - 0s - loss: 0.1177 - accuracy: 0.9821 - val_loss: 0.1104 - val_accuracy: 0.9737\n",
            "Epoch 269/300\n",
            "4/4 - 0s - loss: 0.1189 - accuracy: 0.9732 - val_loss: 0.1097 - val_accuracy: 0.9737\n",
            "Epoch 270/300\n",
            "4/4 - 0s - loss: 0.1167 - accuracy: 0.9821 - val_loss: 0.1097 - val_accuracy: 0.9737\n",
            "Epoch 271/300\n",
            "4/4 - 0s - loss: 0.1164 - accuracy: 0.9821 - val_loss: 0.1095 - val_accuracy: 0.9737\n",
            "Epoch 272/300\n",
            "4/4 - 0s - loss: 0.1165 - accuracy: 0.9821 - val_loss: 0.1098 - val_accuracy: 0.9737\n",
            "Epoch 273/300\n",
            "4/4 - 0s - loss: 0.1159 - accuracy: 0.9821 - val_loss: 0.1087 - val_accuracy: 0.9737\n",
            "Epoch 274/300\n",
            "4/4 - 0s - loss: 0.1151 - accuracy: 0.9821 - val_loss: 0.1079 - val_accuracy: 0.9737\n",
            "Epoch 275/300\n",
            "4/4 - 0s - loss: 0.1146 - accuracy: 0.9821 - val_loss: 0.1074 - val_accuracy: 0.9737\n",
            "Epoch 276/300\n",
            "4/4 - 0s - loss: 0.1143 - accuracy: 0.9821 - val_loss: 0.1068 - val_accuracy: 0.9737\n",
            "Epoch 277/300\n",
            "4/4 - 0s - loss: 0.1139 - accuracy: 0.9821 - val_loss: 0.1065 - val_accuracy: 0.9737\n",
            "Epoch 278/300\n",
            "4/4 - 0s - loss: 0.1134 - accuracy: 0.9821 - val_loss: 0.1061 - val_accuracy: 0.9737\n",
            "Epoch 279/300\n",
            "4/4 - 0s - loss: 0.1134 - accuracy: 0.9821 - val_loss: 0.1057 - val_accuracy: 0.9737\n",
            "Epoch 280/300\n",
            "4/4 - 0s - loss: 0.1127 - accuracy: 0.9821 - val_loss: 0.1051 - val_accuracy: 0.9737\n",
            "Epoch 281/300\n",
            "4/4 - 0s - loss: 0.1126 - accuracy: 0.9732 - val_loss: 0.1047 - val_accuracy: 0.9737\n",
            "Epoch 282/300\n",
            "4/4 - 0s - loss: 0.1124 - accuracy: 0.9732 - val_loss: 0.1044 - val_accuracy: 0.9737\n",
            "Epoch 283/300\n",
            "4/4 - 0s - loss: 0.1120 - accuracy: 0.9732 - val_loss: 0.1041 - val_accuracy: 0.9737\n",
            "Epoch 284/300\n",
            "4/4 - 0s - loss: 0.1117 - accuracy: 0.9732 - val_loss: 0.1036 - val_accuracy: 0.9737\n",
            "Epoch 285/300\n",
            "4/4 - 0s - loss: 0.1106 - accuracy: 0.9821 - val_loss: 0.1035 - val_accuracy: 0.9737\n",
            "Epoch 286/300\n",
            "4/4 - 0s - loss: 0.1103 - accuracy: 0.9821 - val_loss: 0.1040 - val_accuracy: 0.9737\n",
            "Epoch 287/300\n",
            "4/4 - 0s - loss: 0.1101 - accuracy: 0.9821 - val_loss: 0.1043 - val_accuracy: 0.9737\n",
            "Epoch 288/300\n",
            "4/4 - 0s - loss: 0.1101 - accuracy: 0.9821 - val_loss: 0.1041 - val_accuracy: 0.9737\n",
            "Epoch 289/300\n",
            "4/4 - 0s - loss: 0.1100 - accuracy: 0.9821 - val_loss: 0.1032 - val_accuracy: 0.9737\n",
            "Epoch 290/300\n",
            "4/4 - 0s - loss: 0.1093 - accuracy: 0.9821 - val_loss: 0.1026 - val_accuracy: 0.9737\n",
            "Epoch 291/300\n",
            "4/4 - 0s - loss: 0.1086 - accuracy: 0.9821 - val_loss: 0.1018 - val_accuracy: 0.9737\n",
            "Epoch 292/300\n",
            "4/4 - 0s - loss: 0.1084 - accuracy: 0.9821 - val_loss: 0.1013 - val_accuracy: 0.9737\n",
            "Epoch 293/300\n",
            "4/4 - 0s - loss: 0.1081 - accuracy: 0.9821 - val_loss: 0.1008 - val_accuracy: 0.9737\n",
            "Epoch 294/300\n",
            "4/4 - 0s - loss: 0.1076 - accuracy: 0.9821 - val_loss: 0.1007 - val_accuracy: 0.9737\n",
            "Epoch 295/300\n",
            "4/4 - 0s - loss: 0.1071 - accuracy: 0.9821 - val_loss: 0.1004 - val_accuracy: 0.9737\n",
            "Epoch 296/300\n",
            "4/4 - 0s - loss: 0.1077 - accuracy: 0.9821 - val_loss: 0.0996 - val_accuracy: 0.9737\n",
            "Epoch 297/300\n",
            "4/4 - 0s - loss: 0.1069 - accuracy: 0.9821 - val_loss: 0.0994 - val_accuracy: 0.9737\n",
            "Epoch 298/300\n",
            "4/4 - 0s - loss: 0.1067 - accuracy: 0.9821 - val_loss: 0.1000 - val_accuracy: 0.9737\n",
            "Epoch 299/300\n",
            "4/4 - 0s - loss: 0.1058 - accuracy: 0.9821 - val_loss: 0.0993 - val_accuracy: 0.9737\n",
            "Epoch 300/300\n",
            "4/4 - 0s - loss: 0.1057 - accuracy: 0.9821 - val_loss: 0.0987 - val_accuracy: 0.9737\n"
          ]
        }
      ],
      "source": [
        "history = model.fit(X_train, y_train, validation_data=(X_test, y_test),epochs=300, verbose=2)"
      ]
    },
    {
      "cell_type": "code",
      "execution_count": null,
      "id": "769e4d40",
      "metadata": {
        "id": "769e4d40",
        "outputId": "7fa7439a-8e5f-4d9b-af71-b232001d4363"
      },
      "outputs": [
        {
          "data": {
            "image/png": "[encoded data removed]",
            "text/plain": [
              "<Figure size 432x288 with 1 Axes>"
            ]
          },
          "metadata": {
            "needs_background": "light"
          },
          "output_type": "display_data"
        }
      ],
      "source": [
        "import matplotlib.pyplot as plt\n",
        "plt.plot(history.history['accuracy'])\n",
        "plt.plot(history.history['val_accuracy'])\n",
        "plt.title('model accuracy')\n",
        "plt.ylabel('accuracy')\n",
        "plt.xlabel('epoch')\n",
        "plt.legend(['train','test'], loc = 'lower right')\n",
        "plt.show()"
      ]
    },
    {
      "cell_type": "code",
      "execution_count": null,
      "id": "f7ddd121",
      "metadata": {
        "id": "f7ddd121",
        "outputId": "b74a0e85-1a81-4825-a1ef-33312de5db9c"
      },
      "outputs": [
        {
          "data": {
            "image/png": "[encoded data removed]",
            "text/plain": [
              "<Figure size 432x288 with 1 Axes>"
            ]
          },
          "metadata": {
            "needs_background": "light"
          },
          "output_type": "display_data"
        }
      ],
      "source": [
        "plt.plot(history.history['loss'])\n",
        "plt.plot(history.history['val_loss'])\n",
        "plt.title('model loss')\n",
        "plt.ylabel('loss')\n",
        "plt.xlabel('epoch')\n",
        "plt.legend(['train','test'], loc = 'upper right')\n",
        "plt.show()"
      ]
    },
    {
      "cell_type": "code",
      "execution_count": null,
      "id": "46969e6c",
      "metadata": {
        "id": "46969e6c"
      },
      "outputs": [],
      "source": [
        "y_pred = model.predict(X_test)"
      ]
    },
    {
      "cell_type": "code",
      "execution_count": null,
      "id": "e2f8d0ba",
      "metadata": {
        "id": "e2f8d0ba",
        "outputId": "41734588-bb24-440e-8909-02551e6253b3"
      },
      "outputs": [
        {
          "data": {
            "text/plain": [
              "array([[9.9444890e-01, 5.5510011e-03, 1.5014361e-07],\n",
              "       [9.9266088e-01, 7.3388913e-03, 2.5602398e-07],\n",
              "       [9.9724245e-01, 2.7575134e-03, 3.0329726e-08],\n",
              "       [9.9182481e-01, 8.1749884e-03, 2.3619020e-07],\n",
              "       [9.9879622e-01, 1.2038030e-03, 1.9805653e-09],\n",
              "       [2.4188141e-06, 4.5992746e-03, 9.9539834e-01],\n",
              "       [2.5550758e-03, 8.8905317e-01, 1.0839176e-01],\n",
              "       [9.9458814e-01, 5.4116887e-03, 1.1918727e-07],\n",
              "       [7.1691393e-05, 3.2810804e-02, 9.6711749e-01],\n",
              "       [9.9262572e-04, 9.8753124e-01, 1.1476086e-02],\n",
              "       [1.7939514e-03, 9.7067541e-01, 2.7530652e-02],\n",
              "       [9.9313897e-01, 6.8608257e-03, 2.8858938e-07],\n",
              "       [1.8948277e-03, 9.6477962e-01, 3.3325583e-02],\n",
              "       [2.7019787e-03, 8.0442595e-01, 1.9287208e-01],\n",
              "       [4.1738153e-05, 2.7926607e-02, 9.7203165e-01],\n",
              "       [9.9696761e-01, 3.0323770e-03, 3.3157441e-08],\n",
              "       [6.5937731e-04, 3.1698683e-01, 6.8235373e-01],\n",
              "       [1.8470198e-05, 2.4116749e-02, 9.7586483e-01],\n",
              "       [9.5653864e-05, 2.3991521e-02, 9.7591281e-01],\n",
              "       [9.9379939e-01, 6.2003504e-03, 1.9077105e-07],\n",
              "       [7.6267007e-04, 4.0873402e-01, 5.9050333e-01],\n",
              "       [1.1117835e-04, 8.4664352e-02, 9.1522449e-01],\n",
              "       [3.4705942e-04, 3.5177851e-01, 6.4787441e-01],\n",
              "       [8.5776066e-04, 8.8453585e-01, 1.1460632e-01],\n",
              "       [9.9737489e-01, 2.6251690e-03, 1.5989642e-08],\n",
              "       [2.8381055e-05, 3.5429336e-02, 9.6454233e-01],\n",
              "       [7.3112707e-05, 2.4266237e-02, 9.7566062e-01],\n",
              "       [1.7606230e-03, 9.7688782e-01, 2.1351460e-02],\n",
              "       [8.2302457e-03, 9.7473347e-01, 1.7036235e-02],\n",
              "       [7.8863098e-04, 9.5217234e-01, 4.7038995e-02],\n",
              "       [9.9916315e-01, 8.3683798e-04, 1.3943912e-09],\n",
              "       [9.8448354e-01, 1.5515952e-02, 4.4958693e-07],\n",
              "       [2.1302736e-04, 2.0048770e-01, 7.9929924e-01],\n",
              "       [9.2901720e-04, 9.5719796e-01, 4.1873049e-02],\n",
              "       [9.9129897e-01, 8.7005533e-03, 4.7160367e-07],\n",
              "       [9.9721378e-01, 2.7862021e-03, 2.6467070e-08],\n",
              "       [7.2572799e-04, 6.8226182e-01, 3.1701252e-01],\n",
              "       [9.8379552e-01, 1.6202312e-02, 2.0644682e-06]], dtype=float32)"
            ]
          },
          "execution_count": 19,
          "metadata": {},
          "output_type": "execute_result"
        }
      ],
      "source": [
        "y_pred"
      ]
    },
    {
      "cell_type": "code",
      "execution_count": null,
      "id": "67040f86",
      "metadata": {
        "id": "67040f86"
      },
      "outputs": [],
      "source": [
        "y_test = np.argmax(y_test,axis=1)\n",
        "y_predict = np.argmax(y_pred,axis=1)"
      ]
    },
    {
      "cell_type": "code",
      "execution_count": null,
      "id": "475f533c",
      "metadata": {
        "id": "475f533c",
        "outputId": "f237e10b-9267-4220-c8ae-aa881e98269b"
      },
      "outputs": [
        {
          "data": {
            "text/plain": [
              "array([0, 0, 0, 0, 0, 2, 1, 0, 2, 1, 1, 0, 1, 1, 2, 0, 1, 2, 2, 0, 2, 2,\n",
              "       2, 1, 0, 2, 2, 1, 1, 1, 0, 0, 2, 1, 0, 0, 1, 0], dtype=int64)"
            ]
          },
          "execution_count": 21,
          "metadata": {},
          "output_type": "execute_result"
        }
      ],
      "source": [
        "y_test"
      ]
    },
    {
      "cell_type": "code",
      "execution_count": null,
      "id": "db065332",
      "metadata": {
        "id": "db065332",
        "outputId": "a93ca2b2-7e61-4934-c8b9-a419a9c6d626"
      },
      "outputs": [
        {
          "data": {
            "text/plain": [
              "array([0, 0, 0, 0, 0, 2, 1, 0, 2, 1, 1, 0, 1, 1, 2, 0, 2, 2, 2, 0, 2, 2,\n",
              "       2, 1, 0, 2, 2, 1, 1, 1, 0, 0, 2, 1, 0, 0, 1, 0], dtype=int64)"
            ]
          },
          "execution_count": 22,
          "metadata": {},
          "output_type": "execute_result"
        }
      ],
      "source": [
        "y_predict"
      ]
    },
    {
      "cell_type": "code",
      "execution_count": null,
      "id": "62915316",
      "metadata": {
        "id": "62915316"
      },
      "outputs": [],
      "source": [
        "confusion_mat = metrics.confusion_matrix(y_test,y_predict)"
      ]
    },
    {
      "cell_type": "code",
      "execution_count": null,
      "id": "33fd2c30",
      "metadata": {
        "id": "33fd2c30",
        "outputId": "7eac9e04-2aa2-4393-9fa7-dbb3d9a9b45b"
      },
      "outputs": [
        {
          "data": {
            "text/plain": [
              "array([[15,  0,  0],\n",
              "       [ 0, 11,  1],\n",
              "       [ 0,  0, 11]], dtype=int64)"
            ]
          },
          "execution_count": 24,
          "metadata": {},
          "output_type": "execute_result"
        }
      ],
      "source": [
        "confusion_mat"
      ]
    },
    {
      "cell_type": "code",
      "execution_count": null,
      "id": "aba0503e",
      "metadata": {
        "id": "aba0503e",
        "outputId": "9d4fe448-a5cb-4770-ddab-37ec2a19a24f"
      },
      "outputs": [
        {
          "name": "stdout",
          "output_type": "stream",
          "text": [
            "\n",
            "Classification Results\n",
            "              precision    recall  f1-score   support\n",
            "\n",
            "           0       1.00      1.00      1.00        15\n",
            "           1       1.00      0.92      0.96        12\n",
            "           2       0.92      1.00      0.96        11\n",
            "\n",
            "    accuracy                           0.97        38\n",
            "   macro avg       0.97      0.97      0.97        38\n",
            "weighted avg       0.98      0.97      0.97        38\n",
            "\n"
          ]
        }
      ],
      "source": [
        "result = metrics.classification_report(y_test,y_predict)\n",
        "print()\n",
        "print(\"Classification Results\")\n",
        "print(result)"
      ]
    },
    {
      "cell_type": "code",
      "execution_count": null,
      "id": "c2a6a0ce",
      "metadata": {
        "id": "c2a6a0ce"
      },
      "outputs": [],
      "source": []
    }
  ],
  "metadata": {
    "kernelspec": {
      "display_name": "Python 3",
      "language": "python",
      "name": "python3"
    },
    "language_info": {
      "codemirror_mode": {
        "name": "ipython",
        "version": 3
      },
      "file_extension": ".py",
      "mimetype": "text/x-python",
      "name": "python",
      "nbconvert_exporter": "python",
      "pygments_lexer": "ipython3",
      "version": "3.8.8"
    },
    "colab": {
      "provenance": []
    }
  },
  "nbformat": 4,
  "nbformat_minor": 5
}